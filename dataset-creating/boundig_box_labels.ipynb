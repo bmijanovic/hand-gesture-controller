{
 "cells": [
  {
   "cell_type": "code",
   "execution_count": 1,
   "metadata": {},
   "outputs": [
    {
     "name": "stdout",
     "output_type": "stream",
     "text": [
      "WARNING:tensorflow:From c:\\Users\\ognje\\AppData\\Local\\Programs\\Python\\Python311\\Lib\\site-packages\\keras\\src\\losses.py:2976: The name tf.losses.sparse_softmax_cross_entropy is deprecated. Please use tf.compat.v1.losses.sparse_softmax_cross_entropy instead.\n",
      "\n"
     ]
    }
   ],
   "source": [
    "import cv2\n",
    "import mediapipe as mp\n",
    "import os\n",
    "import pandas as pd"
   ]
  },
  {
   "cell_type": "code",
   "execution_count": 2,
   "metadata": {},
   "outputs": [],
   "source": [
    "mp_hands_sol = mp.solutions.hands\n",
    "mp_hands = mp_hands_sol.Hands(\n",
    "    max_num_hands=1,\n",
    "    min_detection_confidence=0.7,\n",
    "    min_tracking_confidence=0.5,\n",
    ")\n",
    "mp_drawing = mp.solutions.drawing_utils\n"
   ]
  },
  {
   "cell_type": "code",
   "execution_count": 3,
   "metadata": {},
   "outputs": [],
   "source": [
    "poses = ['open', 'left', 'right', 'up', 'down']"
   ]
  },
  {
   "cell_type": "code",
   "execution_count": 4,
   "metadata": {},
   "outputs": [],
   "source": [
    "def capture_handgesture(directory, test):\n",
    "    current_gesture = directory.split('/')[4]\n",
    "    for image_file in os.listdir(directory):\n",
    "        \n",
    "        image = cv2.imread(f'{directory}/{image_file}')\n",
    "        \n",
    "        results = mp_hands.process(cv2.cvtColor(image, cv2.COLOR_BGR2RGB))\n",
    "\n",
    "\n",
    "        if results.multi_hand_landmarks:\n",
    "            for hand_landmarks in results.multi_hand_landmarks:\n",
    "\n",
    "                coords = list(map(lambda data_point: [data_point.x, data_point.y], hand_landmarks.landmark))\n",
    "\n",
    "                min_x = min(coords, key=lambda x: x[0])[0]\n",
    "                max_x = max(coords, key=lambda x: x[0])[0]\n",
    "                min_y = min(coords, key=lambda x: x[1])[1]\n",
    "                max_y = max(coords, key=lambda x: x[1])[1]\n",
    "\n",
    "                margin = 0.03\n",
    "\n",
    "                min_x = max(0, min_x - margin)\n",
    "                max_x = min(1, max_x + margin)\n",
    "                min_y = max(0, min_y - margin)\n",
    "                max_y = min(1, max_y + margin)\n",
    "\n",
    "                datapoint = {\n",
    "                    'gesture': current_gesture,\n",
    "                    'min_x': min_x,\n",
    "                    'max_x': max_x,\n",
    "                    'min_y': min_y,\n",
    "                    'max_y': max_y\n",
    "                }\n",
    "                #Iscrtavanje BB\n",
    "                # mp_drawing.draw_landmarks(image, hand_landmarks, mp_hands_sol.HAND_CONNECTIONS)\n",
    "                # cv2.rectangle(image, (int(min_x * image.shape[1]), int(min_y * image.shape[0])), (int(max_x * image.shape[1]), int(max_y * image.shape[0])), (0, 255, 0), 2)\n",
    "                # cv2.imshow(\"image\", image)\n",
    "                # cv2.waitKey(0)\n",
    "\n",
    "                df = pd.DataFrame([datapoint])\n",
    "\n",
    "                df.to_csv(f\"data/{test}/labels/{current_gesture}/{image_file}.csv\", index=False)\n",
    "        else:\n",
    "            os.remove(f\"data/{test}/images/{current_gesture}/{image_file}\")"
   ]
  },
  {
   "cell_type": "code",
   "execution_count": 5,
   "metadata": {},
   "outputs": [
    {
     "name": "stdout",
     "output_type": "stream",
     "text": [
      "Capturing open images for test\n",
      "Capturing left images for test\n",
      "Capturing right images for test\n",
      "Capturing up images for test\n",
      "Capturing down images for test\n"
     ]
    }
   ],
   "source": [
    "for test in ['test', 'train']:\n",
    "    for pose in poses:\n",
    "        print(f\"Capturing {pose} images for {test}\")\n",
    "        capture_handgesture(f'./data/{test}/images/{pose}', test)"
   ]
  }
 ],
 "metadata": {
  "kernelspec": {
   "display_name": "venv",
   "language": "python",
   "name": "python3"
  },
  "language_info": {
   "codemirror_mode": {
    "name": "ipython",
    "version": 3
   },
   "file_extension": ".py",
   "mimetype": "text/x-python",
   "name": "python",
   "nbconvert_exporter": "python",
   "pygments_lexer": "ipython3",
   "version": "3.11.7"
  }
 },
 "nbformat": 4,
 "nbformat_minor": 2
}
