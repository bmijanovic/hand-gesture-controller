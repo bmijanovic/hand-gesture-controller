{
 "cells": [
  {
   "cell_type": "code",
   "execution_count": null,
   "metadata": {},
   "outputs": [],
   "source": [
    "import numpy as np\n",
    "import cv2\n",
    "import matplotlib.pyplot as plt\n",
    "import os\n",
    "import sys\n",
    "import time\n"
   ]
  },
  {
   "cell_type": "code",
   "execution_count": null,
   "metadata": {},
   "outputs": [],
   "source": [
    "def load_image(path):\n",
    "    return cv2.cvtColor(cv2.imread(path), cv2.COLOR_BGR2GRAY)\n",
    "\n",
    "\n",
    "def display_image(image):\n",
    "    plt.imshow(image, 'gray')\n"
   ]
  },
  {
   "cell_type": "code",
   "execution_count": null,
   "metadata": {},
   "outputs": [],
   "source": [
    "def make_images_from_video(video_name):\n",
    "    frame_number = 0\n",
    "    cap = cv2.VideoCapture(video_name)\n",
    "    cap.set(1, frame_number)\n",
    "    step = 1\n",
    "\n",
    "    gesture = video_name.split('.')[0].split('/')[1]\n",
    "    folder_name = 'data/images/' + gesture\n",
    "\n",
    "    print(folder_name)\n",
    "    print(gesture)\n",
    "\n",
    "    while True:\n",
    "        frame_number += step\n",
    "        cap.set(1, frame_number)\n",
    "        ret, frame = cap.read()\n",
    "        if not ret:\n",
    "            break\n",
    "        if frame_number > 500:\n",
    "            break\n",
    "        cv2.imwrite(os.path.join(folder_name, gesture + \"_\" + str(frame_number - 1) + '.jpg'), frame)\n",
    "        print(frame_number - 1)\n",
    "\n",
    "\n"
   ]
  },
  {
   "cell_type": "code",
   "execution_count": null,
   "metadata": {},
   "outputs": [],
   "source": [
    "commands = ['open', 'up', 'down', 'right', 'left']"
   ]
  },
  {
   "cell_type": "code",
   "execution_count": null,
   "metadata": {},
   "outputs": [],
   "source": [
    "for command in commands:\n",
    "    print(command)\n",
    "    make_images_from_video('videos/' + command + '.mp4')"
   ]
  }
 ],
 "metadata": {
  "kernelspec": {
   "display_name": "venv",
   "language": "python",
   "name": "python3"
  },
  "language_info": {
   "codemirror_mode": {
    "name": "ipython",
    "version": 3
   },
   "file_extension": ".py",
   "mimetype": "text/x-python",
   "name": "python",
   "nbconvert_exporter": "python",
   "pygments_lexer": "ipython3",
   "version": "3.11.4"
  }
 },
 "nbformat": 4,
 "nbformat_minor": 2
}
